{
 "cells": [
  {
   "cell_type": "code",
   "execution_count": 1,
   "id": "98c3fe70-2068-4fd6-928f-dc748d7844b0",
   "metadata": {},
   "outputs": [
    {
     "name": "stdin",
     "output_type": "stream",
     "text": [
      "Choose (rock, paper, scissors or exit):  rock\n"
     ]
    },
    {
     "name": "stdout",
     "output_type": "stream",
     "text": [
      "Bot chose: scissors\n",
      "You win!\n",
      "------------------------------\n"
     ]
    },
    {
     "name": "stdin",
     "output_type": "stream",
     "text": [
      "Choose (rock, paper, scissors or exit):  exit\n"
     ]
    },
    {
     "name": "stdout",
     "output_type": "stream",
     "text": [
      "Game over.\n"
     ]
    }
   ],
   "source": [
    "import random\n",
    "\n",
    "choices = [\"rock\", \"paper\", \"scissors\"]\n",
    "\n",
    "while True:\n",
    "    user_choice = input(\"Choose (rock, paper, scissors or exit): \").strip().lower()\n",
    "\n",
    "    if user_choice == \"exit\":\n",
    "        print(\"Game over.\")\n",
    "        break\n",
    "\n",
    "    if user_choice not in choices:\n",
    "        print(\"Invalid input. Please choose rock, paper, or scissors.\")\n",
    "        continue\n",
    "\n",
    "    bot_choice = random.choice(choices)\n",
    "    print(f\"Bot chose: {bot_choice}\")\n",
    "\n",
    "    if user_choice == bot_choice:\n",
    "        print(\"It's a tie!\")\n",
    "    elif (\n",
    "        (user_choice == \"rock\" and bot_choice == \"scissors\") or\n",
    "        (user_choice == \"scissors\" and bot_choice == \"paper\") or\n",
    "        (user_choice == \"paper\" and bot_choice == \"rock\")\n",
    "    ):\n",
    "        print(\"You win!\")\n",
    "    else:\n",
    "        print(\"Bot wins \")\n",
    "\n",
    "    print(\"-\" * 30)\n"
   ]
  },
  {
   "cell_type": "code",
   "execution_count": 6,
   "id": "74033794-da6a-4e41-bd25-4e52cabce7a0",
   "metadata": {},
   "outputs": [],
   "source": [
    "import os\n",
    "import csv\n",
    "\n",
    "def ensure_csv_has_header(csv_file_path, expected_header):\n",
    "    if not os.path.isfile(csv_file_path):\n",
    "        # File doesn't exist, create it with header\n",
    "        with open(csv_file_path, 'w', newline='') as file:\n",
    "            writer = csv.writer(file)\n",
    "            writer.writerow(expected_header)\n",
    "        print(f\"File created with header: {expected_header}\")\n",
    "        return\n",
    "\n",
    "    # Read the first line of the file\n",
    "    with open(csv_file_path, 'r', newline='') as file:\n",
    "        reader = csv.reader(file)\n",
    "        first_row = next(reader, [])\n",
    "\n",
    "    # Check if header matches expected\n",
    "    if first_row != expected_header:\n",
    "        print(\"Fixing header...\")\n",
    "\n",
    "        # Read full content\n",
    "        with open(csv_file_path, 'r', newline='') as file:\n",
    "            lines = list(csv.reader(file))\n",
    "\n",
    "        # Prepend header and skip original first row if it's not valid\n",
    "        if first_row == [] or any(cell in choices for cell in first_row):\n",
    "            data = lines\n",
    "        else:\n",
    "            data = lines[1:]\n",
    "\n",
    "        with open(csv_file_path, 'w', newline='') as file:\n",
    "            writer = csv.writer(file)\n",
    "            writer.writerow(expected_header)\n",
    "            writer.writerows(data)\n",
    "\n",
    "        print(\"Header fixed.\")\n",
    "    else:\n",
    "        print(\"Header is already correct.\")\n"
   ]
  },
  {
   "cell_type": "code",
   "execution_count": 7,
   "id": "290f8099-5c8a-40eb-afde-9e7c3d2c0ca3",
   "metadata": {},
   "outputs": [
    {
     "name": "stdout",
     "output_type": "stream",
     "text": [
      "Fixing header...\n",
      "Header fixed.\n"
     ]
    },
    {
     "name": "stdin",
     "output_type": "stream",
     "text": [
      "Choose (rock, paper, scis or exit):  قخزن\n"
     ]
    },
    {
     "name": "stdout",
     "output_type": "stream",
     "text": [
      "Invalid input. Please choose rock, paper, or scis.\n"
     ]
    },
    {
     "name": "stdin",
     "output_type": "stream",
     "text": [
      "Choose (rock, paper, scis or exit):  rock\n"
     ]
    },
    {
     "name": "stdout",
     "output_type": "stream",
     "text": [
      "Bot chose: rock\n",
      "It's a tie!\n",
      "------------------------------\n"
     ]
    },
    {
     "name": "stdin",
     "output_type": "stream",
     "text": [
      "Choose (rock, paper, scis or exit):  rock\n"
     ]
    },
    {
     "name": "stdout",
     "output_type": "stream",
     "text": [
      "Bot chose: scis\n",
      "You win!\n",
      "------------------------------\n"
     ]
    },
    {
     "name": "stdin",
     "output_type": "stream",
     "text": [
      "Choose (rock, paper, scis or exit):  exit\n"
     ]
    },
    {
     "name": "stdout",
     "output_type": "stream",
     "text": [
      "Game over.\n",
      "Game results saved to game_results.csv\n"
     ]
    }
   ],
   "source": [
    "#the vers of code , which save data....\n",
    "import random\n",
    "import csv\n",
    "import os # Import os to check if file exists\n",
    "\n",
    "choices = [\"rock\", \"paper\", \"scis\"] \n",
    "#I wrote scis instad of scissor \n",
    "csv_file = \"game_results.csv\"\n",
    "\n",
    "ensure_csv_has_header(csv_file, [\"user_choice\", \"bot_choice\", \"result\"])\n",
    "\n",
    "\n",
    "# Check if the CSV file exists to write header only once\n",
    "file_exists = os.path.isfile(csv_file)\n",
    "\n",
    "with open(csv_file, 'a', newline='') as file:\n",
    "    writer = csv.writer(file)\n",
    "    if not file_exists:\n",
    "        writer.writerow([\"User Choice\", \"Bot Choice\", \"Result\"]) # Write header\n",
    "\n",
    "    while True:\n",
    "        user_choice = input(\"Choose (rock, paper, scis or exit): \").strip().lower()\n",
    "\n",
    "        if user_choice == \"exit\":\n",
    "            print(\"Game over.\")\n",
    "            break\n",
    "\n",
    "        if user_choice not in choices:\n",
    "            print(\"Invalid input. Please choose rock, paper, or scis.\")\n",
    "            continue\n",
    "\n",
    "        bot_choice = random.choice(choices)\n",
    "        print(f\"Bot chose: {bot_choice}\")\n",
    "\n",
    "        result = \"\"\n",
    "        if user_choice == bot_choice:\n",
    "            print(\"It's a tie!\")\n",
    "            result = \"Tie\"\n",
    "        elif (\n",
    "            (user_choice == \"rock\" and bot_choice == \"scis\") or\n",
    "            (user_choice == \"scis\" and bot_choice == \"paper\") or\n",
    "            (user_choice == \"paper\" and bot_choice == \"rock\")\n",
    "        ):\n",
    "            print(\"You win!\")\n",
    "            result = \"Win\"\n",
    "        else:\n",
    "            print(\"Bot wins \")\n",
    "            result = \"Lose\"\n",
    "\n",
    "        writer.writerow([user_choice, bot_choice, result]) # Write game results to CSV\n",
    "        print(\"-\" * 30)\n",
    "\n",
    "print(f\"Game results saved to {csv_file}\")\n"
   ]
  },
  {
   "cell_type": "code",
   "execution_count": 8,
   "id": "0441ec54-d49f-4a68-be23-bc765e4a4a10",
   "metadata": {},
   "outputs": [],
   "source": [
    "\n",
    "##load users choices in a diffrent array\n",
    "def load_user_choices(csv_file):\n",
    "    user_choices = []\n",
    "    with open(csv_file, 'r') as file:\n",
    "        reader = csv.DictReader(file)\n",
    "        for row in reader:\n",
    "            user_choices.append(row[\"user_choice\"])\n",
    "    return user_choices"
   ]
  },
  {
   "cell_type": "code",
   "execution_count": 9,
   "id": "1967d104-52f1-4241-bb79-3b7820ede912",
   "metadata": {},
   "outputs": [],
   "source": [
    "##making lvl1 markov to beat player \n",
    "from collections import defaultdict, Counter\n",
    "\n",
    "def build_markov_model(user_choices):\n",
    "    model = defaultdict(Counter)\n",
    "    for i in range(len(user_choices) - 1):\n",
    "        current = user_choices[i]\n",
    "        next_choice = user_choices[i + 1]\n",
    "        model[current][next_choice] += 1\n",
    "    return model"
   ]
  },
  {
   "cell_type": "code",
   "execution_count": 12,
   "id": "436dad51-2558-4f7f-a152-06e31c49b250",
   "metadata": {},
   "outputs": [],
   "source": [
    "def get_counter_move(user_prediction):\n",
    "    win_map = {\n",
    "        \"rock\": \"paper\",\n",
    "        \"paper\": \"scissors\",\n",
    "        \"scissors\": \"rock\"\n",
    "    }\n",
    "    return win_map[user_prediction]\n"
   ]
  },
  {
   "cell_type": "code",
   "execution_count": 10,
   "id": "0b3e9fa3-7e6e-4d95-8be9-4bb03cd74489",
   "metadata": {},
   "outputs": [],
   "source": [
    "#predict next move\n",
    "\n",
    "def predict_next_move(model, last_choice):\n",
    "    if last_choice in model:\n",
    "        prediction = model[last_choice].most_common(1)[0][0]\n",
    "        return prediction\n",
    "    return random.choice([\"rock\", \"paper\", \"scissors\"])"
   ]
  },
  {
   "cell_type": "code",
   "execution_count": 13,
   "id": "3a16a290-1dab-461f-8f5c-790f84a5b5ab",
   "metadata": {},
   "outputs": [],
   "source": [
    "#how we are gonna use it \n",
    "user_choices = load_user_choices(csv_file)\n",
    "markov_model = build_markov_model(user_choices)\n",
    "\n",
    "# Get the last user move\n",
    "if len(user_choices) > 0:\n",
    "    last_user_move = user_choices[-1]\n",
    "    predicted_next = predict_next_move(markov_model, last_user_move)\n",
    "    bot_choice = get_counter_move(predicted_next)\n",
    "else:\n",
    "    bot_choice = random.choice([\"rock\", \"paper\", \"scissors\"])"
   ]
  },
  {
   "cell_type": "code",
   "execution_count": null,
   "id": "bdbf9e92-c14d-4f36-9dfd-03b36b2eb5fb",
   "metadata": {},
   "outputs": [],
   "source": []
  }
 ],
 "metadata": {
  "kernelspec": {
   "display_name": "Python 3 (ipykernel)",
   "language": "python",
   "name": "python3"
  },
  "language_info": {
   "codemirror_mode": {
    "name": "ipython",
    "version": 3
   },
   "file_extension": ".py",
   "mimetype": "text/x-python",
   "name": "python",
   "nbconvert_exporter": "python",
   "pygments_lexer": "ipython3",
   "version": "3.11.7"
  }
 },
 "nbformat": 4,
 "nbformat_minor": 5
}
