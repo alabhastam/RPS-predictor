{
 "cells": [
  {
   "cell_type": "code",
   "execution_count": 1,
   "id": "98c3fe70-2068-4fd6-928f-dc748d7844b0",
   "metadata": {},
   "outputs": [
    {
     "name": "stdin",
     "output_type": "stream",
     "text": [
      "Choose (rock, paper, scissors or exit):  rock\n"
     ]
    },
    {
     "name": "stdout",
     "output_type": "stream",
     "text": [
      "Bot chose: scissors\n",
      "You win!\n",
      "------------------------------\n"
     ]
    },
    {
     "name": "stdin",
     "output_type": "stream",
     "text": [
      "Choose (rock, paper, scissors or exit):  exit\n"
     ]
    },
    {
     "name": "stdout",
     "output_type": "stream",
     "text": [
      "Game over.\n"
     ]
    }
   ],
   "source": [
    "import random\n",
    "\n",
    "choices = [\"rock\", \"paper\", \"scissors\"]\n",
    "\n",
    "while True:\n",
    "    user_choice = input(\"Choose (rock, paper, scissors or exit): \").strip().lower()\n",
    "\n",
    "    if user_choice == \"exit\":\n",
    "        print(\"Game over.\")\n",
    "        break\n",
    "\n",
    "    if user_choice not in choices:\n",
    "        print(\"Invalid input. Please choose rock, paper, or scissors.\")\n",
    "        continue\n",
    "\n",
    "    bot_choice = random.choice(choices)\n",
    "    print(f\"Bot chose: {bot_choice}\")\n",
    "\n",
    "    if user_choice == bot_choice:\n",
    "        print(\"It's a tie!\")\n",
    "    elif (\n",
    "        (user_choice == \"rock\" and bot_choice == \"scissors\") or\n",
    "        (user_choice == \"scissors\" and bot_choice == \"paper\") or\n",
    "        (user_choice == \"paper\" and bot_choice == \"rock\")\n",
    "    ):\n",
    "        print(\"You win!\")\n",
    "    else:\n",
    "        print(\"Bot wins \")\n",
    "\n",
    "    print(\"-\" * 30)\n"
   ]
  },
  {
   "cell_type": "code",
   "execution_count": 2,
   "id": "290f8099-5c8a-40eb-afde-9e7c3d2c0ca3",
   "metadata": {},
   "outputs": [
    {
     "name": "stdin",
     "output_type": "stream",
     "text": [
      "Choose (rock, paper, scis or exit):  scis\n"
     ]
    },
    {
     "name": "stdout",
     "output_type": "stream",
     "text": [
      "Bot chose: scis\n",
      "It's a tie!\n",
      "------------------------------\n"
     ]
    },
    {
     "name": "stdin",
     "output_type": "stream",
     "text": [
      "Choose (rock, paper, scis or exit):  rock\n"
     ]
    },
    {
     "name": "stdout",
     "output_type": "stream",
     "text": [
      "Bot chose: paper\n",
      "Bot wins \n",
      "------------------------------\n"
     ]
    },
    {
     "name": "stdin",
     "output_type": "stream",
     "text": [
      "Choose (rock, paper, scis or exit):  paper\n"
     ]
    },
    {
     "name": "stdout",
     "output_type": "stream",
     "text": [
      "Bot chose: paper\n",
      "It's a tie!\n",
      "------------------------------\n"
     ]
    },
    {
     "name": "stdin",
     "output_type": "stream",
     "text": [
      "Choose (rock, paper, scis or exit):  papaer\n"
     ]
    },
    {
     "name": "stdout",
     "output_type": "stream",
     "text": [
      "Invalid input. Please choose rock, paper, or scis.\n"
     ]
    },
    {
     "name": "stdin",
     "output_type": "stream",
     "text": [
      "Choose (rock, paper, scis or exit):  paper\n"
     ]
    },
    {
     "name": "stdout",
     "output_type": "stream",
     "text": [
      "Bot chose: scis\n",
      "Bot wins \n",
      "------------------------------\n"
     ]
    },
    {
     "name": "stdin",
     "output_type": "stream",
     "text": [
      "Choose (rock, paper, scis or exit):  paper\n"
     ]
    },
    {
     "name": "stdout",
     "output_type": "stream",
     "text": [
      "Bot chose: rock\n",
      "You win!\n",
      "------------------------------\n"
     ]
    },
    {
     "name": "stdin",
     "output_type": "stream",
     "text": [
      "Choose (rock, paper, scis or exit):  exit\n"
     ]
    },
    {
     "name": "stdout",
     "output_type": "stream",
     "text": [
      "Game over.\n",
      "Game results saved to game_results.csv\n"
     ]
    }
   ],
   "source": [
    "#the vers of code , which save data....\n",
    "import random\n",
    "import csv\n",
    "import os # Import os to check if file exists\n",
    "\n",
    "choices = [\"rock\", \"paper\", \"scis\"] \n",
    "#I wrote scis instad of scissor \n",
    "csv_file = \"game_results.csv\"\n",
    "\n",
    "# Check if the CSV file exists to write header only once\n",
    "file_exists = os.path.isfile(csv_file)\n",
    "\n",
    "with open(csv_file, 'a', newline='') as file:\n",
    "    writer = csv.writer(file)\n",
    "    if not file_exists:\n",
    "        writer.writerow([\"User Choice\", \"Bot Choice\", \"Result\"]) # Write header\n",
    "\n",
    "    while True:\n",
    "        user_choice = input(\"Choose (rock, paper, scis or exit): \").strip().lower()\n",
    "\n",
    "        if user_choice == \"exit\":\n",
    "            print(\"Game over.\")\n",
    "            break\n",
    "\n",
    "        if user_choice not in choices:\n",
    "            print(\"Invalid input. Please choose rock, paper, or scis.\")\n",
    "            continue\n",
    "\n",
    "        bot_choice = random.choice(choices)\n",
    "        print(f\"Bot chose: {bot_choice}\")\n",
    "\n",
    "        result = \"\"\n",
    "        if user_choice == bot_choice:\n",
    "            print(\"It's a tie!\")\n",
    "            result = \"Tie\"\n",
    "        elif (\n",
    "            (user_choice == \"rock\" and bot_choice == \"scis\") or\n",
    "            (user_choice == \"scis\" and bot_choice == \"paper\") or\n",
    "            (user_choice == \"paper\" and bot_choice == \"rock\")\n",
    "        ):\n",
    "            print(\"You win!\")\n",
    "            result = \"Win\"\n",
    "        else:\n",
    "            print(\"Bot wins \")\n",
    "            result = \"Lose\"\n",
    "\n",
    "        writer.writerow([user_choice, bot_choice, result]) # Write game results to CSV\n",
    "        print(\"-\" * 30)\n",
    "\n",
    "print(f\"Game results saved to {csv_file}\")\n"
   ]
  },
  {
   "cell_type": "code",
   "execution_count": null,
   "id": "0441ec54-d49f-4a68-be23-bc765e4a4a10",
   "metadata": {},
   "outputs": [],
   "source": []
  }
 ],
 "metadata": {
  "kernelspec": {
   "display_name": "Python 3 (ipykernel)",
   "language": "python",
   "name": "python3"
  },
  "language_info": {
   "codemirror_mode": {
    "name": "ipython",
    "version": 3
   },
   "file_extension": ".py",
   "mimetype": "text/x-python",
   "name": "python",
   "nbconvert_exporter": "python",
   "pygments_lexer": "ipython3",
   "version": "3.11.7"
  }
 },
 "nbformat": 4,
 "nbformat_minor": 5
}
