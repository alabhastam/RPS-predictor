{
 "cells": [
  {
   "cell_type": "code",
   "execution_count": 1,
   "id": "98c3fe70-2068-4fd6-928f-dc748d7844b0",
   "metadata": {},
   "outputs": [
    {
     "name": "stdin",
     "output_type": "stream",
     "text": [
      "Choose (rock, paper, scissors or exit):  rock\n"
     ]
    },
    {
     "name": "stdout",
     "output_type": "stream",
     "text": [
      "Bot chose: scissors\n",
      "You win!\n",
      "------------------------------\n"
     ]
    },
    {
     "name": "stdin",
     "output_type": "stream",
     "text": [
      "Choose (rock, paper, scissors or exit):  exit\n"
     ]
    },
    {
     "name": "stdout",
     "output_type": "stream",
     "text": [
      "Game over.\n"
     ]
    }
   ],
   "source": [
    "import random\n",
    "\n",
    "choices = [\"rock\", \"paper\", \"scissors\"]\n",
    "\n",
    "while True:\n",
    "    user_choice = input(\"Choose (rock, paper, scissors or exit): \").strip().lower()\n",
    "\n",
    "    if user_choice == \"exit\":\n",
    "        print(\"Game over.\")\n",
    "        break\n",
    "\n",
    "    if user_choice not in choices:\n",
    "        print(\"Invalid input. Please choose rock, paper, or scissors.\")\n",
    "        continue\n",
    "\n",
    "    bot_choice = random.choice(choices)\n",
    "    print(f\"Bot chose: {bot_choice}\")\n",
    "\n",
    "    if user_choice == bot_choice:\n",
    "        print(\"It's a tie!\")\n",
    "    elif (\n",
    "        (user_choice == \"rock\" and bot_choice == \"scissors\") or\n",
    "        (user_choice == \"scissors\" and bot_choice == \"paper\") or\n",
    "        (user_choice == \"paper\" and bot_choice == \"rock\")\n",
    "    ):\n",
    "        print(\"You win!\")\n",
    "    else:\n",
    "        print(\"Bot wins \")\n",
    "\n",
    "    print(\"-\" * 30)\n"
   ]
  },
  {
   "cell_type": "code",
   "execution_count": null,
   "id": "290f8099-5c8a-40eb-afde-9e7c3d2c0ca3",
   "metadata": {},
   "outputs": [],
   "source": []
  }
 ],
 "metadata": {
  "kernelspec": {
   "display_name": "Python 3 (ipykernel)",
   "language": "python",
   "name": "python3"
  },
  "language_info": {
   "codemirror_mode": {
    "name": "ipython",
    "version": 3
   },
   "file_extension": ".py",
   "mimetype": "text/x-python",
   "name": "python",
   "nbconvert_exporter": "python",
   "pygments_lexer": "ipython3",
   "version": "3.11.7"
  }
 },
 "nbformat": 4,
 "nbformat_minor": 5
}
