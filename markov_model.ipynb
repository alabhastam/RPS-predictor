{
 "cells": [
  {
   "cell_type": "code",
   "execution_count": 1,
   "id": "86a8ab82-9cd1-4cbf-bd18-d8a3aa31f812",
   "metadata": {},
   "outputs": [
    {
     "name": "stdin",
     "output_type": "stream",
     "text": [
      "Choose (rock, paper, scissors or exit):  rock\n"
     ]
    },
    {
     "name": "stdout",
     "output_type": "stream",
     "text": [
      "Bot chose: paper\n",
      "Bot wins!\n",
      "------------------------------\n"
     ]
    },
    {
     "name": "stdin",
     "output_type": "stream",
     "text": [
      "Choose (rock, paper, scissors or exit):  rpck\n"
     ]
    },
    {
     "name": "stdout",
     "output_type": "stream",
     "text": [
      "Invalid input. Please choose rock, paper, or scissors.\n"
     ]
    },
    {
     "name": "stdin",
     "output_type": "stream",
     "text": [
      "Choose (rock, paper, scissors or exit):  rock\n"
     ]
    },
    {
     "name": "stdout",
     "output_type": "stream",
     "text": [
      "Bot chose: paper\n",
      "Bot wins!\n",
      "------------------------------\n"
     ]
    },
    {
     "name": "stdin",
     "output_type": "stream",
     "text": [
      "Choose (rock, paper, scissors or exit):  rock\n"
     ]
    },
    {
     "name": "stdout",
     "output_type": "stream",
     "text": [
      "Bot chose: paper\n",
      "Bot wins!\n",
      "------------------------------\n"
     ]
    },
    {
     "name": "stdin",
     "output_type": "stream",
     "text": [
      "Choose (rock, paper, scissors or exit):  rock\n"
     ]
    },
    {
     "name": "stdout",
     "output_type": "stream",
     "text": [
      "Bot chose: paper\n",
      "Bot wins!\n",
      "------------------------------\n"
     ]
    },
    {
     "name": "stdin",
     "output_type": "stream",
     "text": [
      "Choose (rock, paper, scissors or exit):  paper\n"
     ]
    },
    {
     "name": "stdout",
     "output_type": "stream",
     "text": [
      "Bot chose: paper\n",
      "It's a tie!\n",
      "------------------------------\n"
     ]
    },
    {
     "name": "stdin",
     "output_type": "stream",
     "text": [
      "Choose (rock, paper, scissors or exit):  exit\n"
     ]
    },
    {
     "name": "stdout",
     "output_type": "stream",
     "text": [
      "Game over.\n"
     ]
    }
   ],
   "source": [
    "import csv\n",
    "import os\n",
    "import random\n",
    "from collections import defaultdict, Counter\n",
    "\n",
    "csv_file = \"game_results.csv\"\n",
    "choices = [\"rock\", \"paper\", \"scissors\"]\n",
    "\n",
    "def ensure_csv_has_header(csv_file_path, expected_header):\n",
    "    if not os.path.isfile(csv_file_path) or os.stat(csv_file_path).st_size == 0:\n",
    "        with open(csv_file_path, 'w', newline='') as file:\n",
    "            writer = csv.writer(file)\n",
    "            writer.writerow(expected_header)\n",
    "\n",
    "def load_user_choices(csv_file):\n",
    "    user_choices = []\n",
    "    with open(csv_file, 'r') as file:\n",
    "        reader = csv.DictReader(file)\n",
    "        for row in reader:\n",
    "            user_choices.append(row[\"user_choice\"])\n",
    "    return user_choices\n",
    "\n",
    "def build_markov_model(user_choices):\n",
    "    model = defaultdict(Counter)\n",
    "    for i in range(len(user_choices) - 1):\n",
    "        current = user_choices[i]\n",
    "        next_choice = user_choices[i + 1]\n",
    "        model[current][next_choice] += 1\n",
    "    return model\n",
    "\n",
    "def predict_next_move(model, last_choice):\n",
    "    if last_choice in model and len(model[last_choice]) > 0:\n",
    "        prediction = model[last_choice].most_common(1)[0][0]\n",
    "        return prediction\n",
    "    return random.choice(choices)\n",
    "\n",
    "def get_counter_move(user_prediction):\n",
    "    win_map = {\n",
    "        \"rock\": \"paper\",\n",
    "        \"paper\": \"scissors\",\n",
    "        \"scissors\": \"rock\"\n",
    "    }\n",
    "    return win_map[user_prediction]\n",
    "\n",
    "ensure_csv_has_header(csv_file, [\"user_choice\", \"bot_choice\", \"result\"])\n",
    "\n",
    "user_choices = load_user_choices(csv_file)\n",
    "markov_model = build_markov_model(user_choices)\n",
    "\n",
    "with open(csv_file, 'a', newline='') as file:\n",
    "    writer = csv.writer(file)\n",
    "\n",
    "    while True:\n",
    "        user_choice = input(\"Choose (rock, paper, scissors or exit): \").strip().lower()\n",
    "\n",
    "        if user_choice == \"exit\":\n",
    "            print(\"Game over.\")\n",
    "            break\n",
    "\n",
    "        if user_choice not in choices:\n",
    "            print(\"Invalid input. Please choose rock, paper, or scissors.\")\n",
    "            continue\n",
    "\n",
    "        if user_choices:\n",
    "            last_choice = user_choices[-1]\n",
    "            predicted_next = predict_next_move(markov_model, last_choice)\n",
    "            bot_choice = get_counter_move(predicted_next)\n",
    "        else:\n",
    "            bot_choice = random.choice(choices)\n",
    "\n",
    "        print(f\"Bot chose: {bot_choice}\")\n",
    "\n",
    "        if user_choice == bot_choice:\n",
    "            result = \"Tie\"\n",
    "            print(\"It's a tie!\")\n",
    "        elif (\n",
    "            (user_choice == \"rock\" and bot_choice == \"scissors\") or\n",
    "            (user_choice == \"scissors\" and bot_choice == \"paper\") or\n",
    "            (user_choice == \"paper\" and bot_choice == \"rock\")\n",
    "        ):\n",
    "            result = \"Win\"\n",
    "            print(\"You win!\")\n",
    "        else:\n",
    "            result = \"Lose\"\n",
    "            print(\"Bot wins!\")\n",
    "\n",
    "        writer.writerow([user_choice, bot_choice, result])\n",
    "        user_choices.append(user_choice) \n",
    "        markov_model = build_markov_model(user_choices)  \n",
    "\n",
    "        print(\"-\" * 30)\n"
   ]
  },
  {
   "cell_type": "code",
   "execution_count": null,
   "id": "620716b9-6b2d-4ffe-8e81-4ec1d95d9d97",
   "metadata": {},
   "outputs": [],
   "source": []
  }
 ],
 "metadata": {
  "kernelspec": {
   "display_name": "Python 3 (ipykernel)",
   "language": "python",
   "name": "python3"
  },
  "language_info": {
   "codemirror_mode": {
    "name": "ipython",
    "version": 3
   },
   "file_extension": ".py",
   "mimetype": "text/x-python",
   "name": "python",
   "nbconvert_exporter": "python",
   "pygments_lexer": "ipython3",
   "version": "3.11.7"
  }
 },
 "nbformat": 4,
 "nbformat_minor": 5
}
